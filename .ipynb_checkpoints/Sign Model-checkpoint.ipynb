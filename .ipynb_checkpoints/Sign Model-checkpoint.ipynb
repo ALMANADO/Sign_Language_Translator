{
 "cells": [
  {
   "cell_type": "code",
   "execution_count": 1,
   "id": "c9ae1600-b378-4207-a2f9-8a1253d6c436",
   "metadata": {},
   "outputs": [],
   "source": [
    "import cv2\n",
    "import numpy as np\n",
    "import os\n",
    "from matplotlib import pyplot as plt\n",
    "import time\n",
    "import mediapipe as mp"
   ]
  },
  {
   "cell_type": "code",
   "execution_count": 4,
   "id": "078317a0-1ef5-4816-bf5c-80290be72a19",
   "metadata": {},
   "outputs": [],
   "source": [
    "# HOLISTIC IS A LIBRARY OF MODELS JUST LIKE JOBLIB\n",
    "mp_holistic = mp.solutions.holistic\n",
    "mp_drawing = mp.solutions.drawing_utils"
   ]
  },
  {
   "cell_type": "code",
   "execution_count": null,
   "id": "975f42b4-cb99-46f8-9d55-a16d34792757",
   "metadata": {},
   "outputs": [],
   "source": [
    "# HERE IMAGE MEANS A FRAME OF VIDEO IS PASSED\n",
    "def mediapipe_detection(image,model):\n",
    "    image = cv2.cvtColor(image,cv2.COLOR_BGR2RGB)\n",
    "    image.flags.writable = False;\n",
    "    results = model.process(image);\n",
    "    image.flags.writable = True;\n",
    "    image = cv2.cvtColor(image,cv2.COLOR_RGB2BGR\n",
    "                        )"
   ]
  },
  {
   "cell_type": "code",
   "execution_count": 3,
   "id": "d98295e4-bcdc-4b89-a55d-9b8d0e0bc64c",
   "metadata": {},
   "outputs": [],
   "source": [
    "# GET CAMERA ACCESS\n",
    "cap=cv2.VideoCapture(0);\n",
    "# START THE LOOP ONLY If CAM IS OPENED\n",
    "while cap.isOpened():\n",
    "    # READ THE VIDEO OR CAM INPUT(CURRENT FRAME)....READ FRAME\n",
    "    ret,frame=cap.read();\n",
    "    # DISPLAY THE CAPTURED \"FRAME\" TO SCREEN ....SHOW FRAME\n",
    "    cv2.imshow('OpenCV Feed' , frame)\n",
    "\n",
    "    # EXIT THE POP UP WHEN PRESSED q OR AFTER 10 MIN IS OVER\n",
    "    if cv2.waitKey(10) &0xFF == ord('q'):\n",
    "        break\n",
    "\n",
    "# CLOSE CAM ACCESS AND END FRAMES CAPTURED\n",
    "cap.release()\n",
    "cv2.destroyAllWindows()"
   ]
  },
  {
   "cell_type": "code",
   "execution_count": null,
   "id": "e760a0c5-ede0-4f03-9653-a06f27e20408",
   "metadata": {},
   "outputs": [],
   "source": []
  }
 ],
 "metadata": {
  "kernelspec": {
   "display_name": "Python 3 (ipykernel)",
   "language": "python",
   "name": "python3"
  },
  "language_info": {
   "codemirror_mode": {
    "name": "ipython",
    "version": 3
   },
   "file_extension": ".py",
   "mimetype": "text/x-python",
   "name": "python",
   "nbconvert_exporter": "python",
   "pygments_lexer": "ipython3",
   "version": "3.10.0"
  }
 },
 "nbformat": 4,
 "nbformat_minor": 5
}
